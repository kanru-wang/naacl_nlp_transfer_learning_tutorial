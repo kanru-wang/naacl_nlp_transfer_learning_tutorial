{
  "nbformat": 4,
  "nbformat_minor": 0,
  "metadata": {
    "colab": {
      "name": "Document-level classification using fast.ai.ipynb",
      "provenance": [],
      "toc_visible": true,
      "include_colab_link": true
    },
    "kernelspec": {
      "name": "python3",
      "display_name": "Python 3"
    },
    "accelerator": "GPU"
  },
  "cells": [
    {
      "cell_type": "markdown",
      "metadata": {
        "id": "view-in-github",
        "colab_type": "text"
      },
      "source": [
        "<a href=\"https://colab.research.google.com/github/kanru-wang/naacl_nlp_transfer_learning_tutorial/blob/master/Document_level_classification_using_fast_ai.ipynb\" target=\"_parent\"><img src=\"https://colab.research.google.com/assets/colab-badge.svg\" alt=\"Open In Colab\"/></a>"
      ]
    },
    {
      "cell_type": "markdown",
      "metadata": {
        "id": "S-1fEl43teJV",
        "colab_type": "text"
      },
      "source": [
        "# Notebook accompanying NAACL 2019 tutorial on \"Transfer Learning in Natural Language Processing\".\n",
        "\n",
        "The tutorial will be given on June 2 at NAACL 2019 in Minneapolis, MN, USA by [Sebastian Ruder](http://ruder.io/), [Matthew Peters](https://www.linkedin.com/in/petersmatthew), [Swabha Swayamdipta](http://www.cs.cmu.edu/~sswayamd/index.html) and [Thomas Wolf](http://thomwolf.io/).\n",
        "\n",
        "You can check the [webpage](https://naacl2019.org/program/tutorials/) of NAACL tutorials for more information.\n",
        "\n",
        "Further material: [slides](http://tiny.cc/NAACLTransfer) and [code](http://tiny.cc/NAACLTransferCode)."
      ]
    },
    {
      "cell_type": "markdown",
      "metadata": {
        "id": "6r5Ai8mqtSQJ",
        "colab_type": "text"
      },
      "source": [
        "# Document level classification\n",
        "\n",
        "In this notebook, we recreated the [text classification example](https://github.com/fastai/fastai/blob/master/examples/text.ipynb) by Sylvain Gugger from fast.ai which show how to do transfer learning using the [fast.ai](https://github.com/fastai/fastai) library.\n",
        "\n",
        "This example consists in creating a language model and then transfering it to a classifier."
      ]
    },
    {
      "cell_type": "code",
      "metadata": {
        "id": "G-gKVfHstIGn",
        "colab_type": "code",
        "colab": {}
      },
      "source": [
        "from fastai.text import *   # Quick access to NLP functionality"
      ],
      "execution_count": 0,
      "outputs": []
    },
    {
      "cell_type": "markdown",
      "metadata": {
        "id": "26TMC5Ykt9WE",
        "colab_type": "text"
      },
      "source": [
        "## Get a document classification dataset: IMDB\n",
        "\n",
        "Download the IMDB dataset and inspect itcreate"
      ]
    },
    {
      "cell_type": "code",
      "metadata": {
        "id": "dv-pU4HXtKOf",
        "colab_type": "code",
        "outputId": "982a3f76-04d3-454d-b7a6-1e0140a3f75c",
        "colab": {
          "base_uri": "https://localhost:8080/",
          "height": 225
        }
      },
      "source": [
        "path = untar_data(URLs.IMDB_SAMPLE)\n",
        "print(\"Path:\", path)\n",
        "df = pd.read_csv(path/'texts.csv')\n",
        "df.head()"
      ],
      "execution_count": 0,
      "outputs": [
        {
          "output_type": "stream",
          "text": [
            "Path: /root/.fastai/data/imdb_sample\n"
          ],
          "name": "stdout"
        },
        {
          "output_type": "execute_result",
          "data": {
            "text/html": [
              "<div>\n",
              "<style scoped>\n",
              "    .dataframe tbody tr th:only-of-type {\n",
              "        vertical-align: middle;\n",
              "    }\n",
              "\n",
              "    .dataframe tbody tr th {\n",
              "        vertical-align: top;\n",
              "    }\n",
              "\n",
              "    .dataframe thead th {\n",
              "        text-align: right;\n",
              "    }\n",
              "</style>\n",
              "<table border=\"1\" class=\"dataframe\">\n",
              "  <thead>\n",
              "    <tr style=\"text-align: right;\">\n",
              "      <th></th>\n",
              "      <th>label</th>\n",
              "      <th>text</th>\n",
              "      <th>is_valid</th>\n",
              "    </tr>\n",
              "  </thead>\n",
              "  <tbody>\n",
              "    <tr>\n",
              "      <th>0</th>\n",
              "      <td>negative</td>\n",
              "      <td>Un-bleeping-believable! Meg Ryan doesn't even ...</td>\n",
              "      <td>False</td>\n",
              "    </tr>\n",
              "    <tr>\n",
              "      <th>1</th>\n",
              "      <td>positive</td>\n",
              "      <td>This is a extremely well-made film. The acting...</td>\n",
              "      <td>False</td>\n",
              "    </tr>\n",
              "    <tr>\n",
              "      <th>2</th>\n",
              "      <td>negative</td>\n",
              "      <td>Every once in a long while a movie will come a...</td>\n",
              "      <td>False</td>\n",
              "    </tr>\n",
              "    <tr>\n",
              "      <th>3</th>\n",
              "      <td>positive</td>\n",
              "      <td>Name just says it all. I watched this movie wi...</td>\n",
              "      <td>False</td>\n",
              "    </tr>\n",
              "    <tr>\n",
              "      <th>4</th>\n",
              "      <td>negative</td>\n",
              "      <td>This movie succeeds at being one of the most u...</td>\n",
              "      <td>False</td>\n",
              "    </tr>\n",
              "  </tbody>\n",
              "</table>\n",
              "</div>"
            ],
            "text/plain": [
              "      label                                               text  is_valid\n",
              "0  negative  Un-bleeping-believable! Meg Ryan doesn't even ...     False\n",
              "1  positive  This is a extremely well-made film. The acting...     False\n",
              "2  negative  Every once in a long while a movie will come a...     False\n",
              "3  positive  Name just says it all. I watched this movie wi...     False\n",
              "4  negative  This movie succeeds at being one of the most u...     False"
            ]
          },
          "metadata": {
            "tags": []
          },
          "execution_count": 14
        }
      ]
    },
    {
      "cell_type": "markdown",
      "metadata": {
        "id": "fmy1EgG-uS17",
        "colab_type": "text"
      },
      "source": [
        "Create a DataBunch for each of the language model and the classifier:"
      ]
    },
    {
      "cell_type": "code",
      "metadata": {
        "id": "vr4TT-g9tVTE",
        "colab_type": "code",
        "colab": {}
      },
      "source": [
        "data_lm  = TextLMDataBunch.from_csv(path, 'texts.csv')\n",
        "data_clas = TextClasDataBunch.from_csv(path, 'texts.csv',\n",
        "                       vocab=data_lm.train_ds.vocab, bs=42)"
      ],
      "execution_count": 0,
      "outputs": []
    },
    {
      "cell_type": "markdown",
      "metadata": {
        "id": "wYRR_-FsuYKB",
        "colab_type": "text"
      },
      "source": [
        "We'll fine-tune the language model. fast.ai has a pre-trained English model available that we can download, we just have to specify it like this:"
      ]
    },
    {
      "cell_type": "code",
      "metadata": {
        "id": "PnzwqwYnuFkB",
        "colab_type": "code",
        "outputId": "72bbf4e8-ac40-4d95-d7ed-03ab8820e854",
        "colab": {
          "base_uri": "https://localhost:8080/",
          "height": 175
        }
      },
      "source": [
        "moms = (0.8,0.7)\n",
        "learn = language_model_learner(data_lm, AWD_LSTM)\n",
        "learn.unfreeze()\n",
        "learn.fit_one_cycle(4, slice(1e-2), moms=moms)\n",
        "learn.save_encoder('enc')"
      ],
      "execution_count": 0,
      "outputs": [
        {
          "output_type": "display_data",
          "data": {
            "text/html": [
              "<table border=\"1\" class=\"dataframe\">\n",
              "  <thead>\n",
              "    <tr style=\"text-align: left;\">\n",
              "      <th>epoch</th>\n",
              "      <th>train_loss</th>\n",
              "      <th>valid_loss</th>\n",
              "      <th>accuracy</th>\n",
              "      <th>time</th>\n",
              "    </tr>\n",
              "  </thead>\n",
              "  <tbody>\n",
              "    <tr>\n",
              "      <td>0</td>\n",
              "      <td>4.723435</td>\n",
              "      <td>3.968737</td>\n",
              "      <td>0.283498</td>\n",
              "      <td>00:15</td>\n",
              "    </tr>\n",
              "    <tr>\n",
              "      <td>1</td>\n",
              "      <td>4.416326</td>\n",
              "      <td>3.874095</td>\n",
              "      <td>0.286878</td>\n",
              "      <td>00:15</td>\n",
              "    </tr>\n",
              "    <tr>\n",
              "      <td>2</td>\n",
              "      <td>4.148463</td>\n",
              "      <td>3.836543</td>\n",
              "      <td>0.290434</td>\n",
              "      <td>00:16</td>\n",
              "    </tr>\n",
              "    <tr>\n",
              "      <td>3</td>\n",
              "      <td>3.951989</td>\n",
              "      <td>3.828021</td>\n",
              "      <td>0.291311</td>\n",
              "      <td>00:16</td>\n",
              "    </tr>\n",
              "  </tbody>\n",
              "</table>"
            ],
            "text/plain": [
              "<IPython.core.display.HTML object>"
            ]
          },
          "metadata": {
            "tags": []
          }
        }
      ]
    },
    {
      "cell_type": "markdown",
      "metadata": {
        "id": "t0kZUJvtutAn",
        "colab_type": "text"
      },
      "source": [
        "Fine tune it to create a classifier:\n"
      ]
    },
    {
      "cell_type": "code",
      "metadata": {
        "id": "GrMKiv1xuvA4",
        "colab_type": "code",
        "outputId": "05ff040d-238f-4ee2-a8e7-d22faab8abb2",
        "colab": {
          "base_uri": "https://localhost:8080/",
          "height": 175
        }
      },
      "source": [
        "learn = text_classifier_learner(data_clas, AWD_LSTM)\n",
        "learn.load_encoder('enc')\n",
        "learn.fit_one_cycle(4, moms=moms)"
      ],
      "execution_count": 0,
      "outputs": [
        {
          "output_type": "display_data",
          "data": {
            "text/html": [
              "<table border=\"1\" class=\"dataframe\">\n",
              "  <thead>\n",
              "    <tr style=\"text-align: left;\">\n",
              "      <th>epoch</th>\n",
              "      <th>train_loss</th>\n",
              "      <th>valid_loss</th>\n",
              "      <th>accuracy</th>\n",
              "      <th>time</th>\n",
              "    </tr>\n",
              "  </thead>\n",
              "  <tbody>\n",
              "    <tr>\n",
              "      <td>0</td>\n",
              "      <td>0.663383</td>\n",
              "      <td>0.682115</td>\n",
              "      <td>0.572139</td>\n",
              "      <td>00:10</td>\n",
              "    </tr>\n",
              "    <tr>\n",
              "      <td>1</td>\n",
              "      <td>0.623683</td>\n",
              "      <td>0.609520</td>\n",
              "      <td>0.651741</td>\n",
              "      <td>00:10</td>\n",
              "    </tr>\n",
              "    <tr>\n",
              "      <td>2</td>\n",
              "      <td>0.597989</td>\n",
              "      <td>0.582999</td>\n",
              "      <td>0.666667</td>\n",
              "      <td>00:10</td>\n",
              "    </tr>\n",
              "    <tr>\n",
              "      <td>3</td>\n",
              "      <td>0.580533</td>\n",
              "      <td>0.555404</td>\n",
              "      <td>0.666667</td>\n",
              "      <td>00:09</td>\n",
              "    </tr>\n",
              "  </tbody>\n",
              "</table>"
            ],
            "text/plain": [
              "<IPython.core.display.HTML object>"
            ]
          },
          "metadata": {
            "tags": []
          }
        }
      ]
    },
    {
      "cell_type": "code",
      "metadata": {
        "id": "WhOOLusMuzDw",
        "colab_type": "code",
        "outputId": "7bb0c293-bc9d-4310-fa77-c190c30e2223",
        "colab": {
          "base_uri": "https://localhost:8080/",
          "height": 300
        }
      },
      "source": [
        "learn.unfreeze()\n",
        "learn.fit_one_cycle(8, slice(1e-5,1e-3), moms=moms)"
      ],
      "execution_count": 0,
      "outputs": [
        {
          "output_type": "display_data",
          "data": {
            "text/html": [
              "<table border=\"1\" class=\"dataframe\">\n",
              "  <thead>\n",
              "    <tr style=\"text-align: left;\">\n",
              "      <th>epoch</th>\n",
              "      <th>train_loss</th>\n",
              "      <th>valid_loss</th>\n",
              "      <th>accuracy</th>\n",
              "      <th>time</th>\n",
              "    </tr>\n",
              "  </thead>\n",
              "  <tbody>\n",
              "    <tr>\n",
              "      <td>0</td>\n",
              "      <td>0.555569</td>\n",
              "      <td>0.557091</td>\n",
              "      <td>0.681592</td>\n",
              "      <td>00:20</td>\n",
              "    </tr>\n",
              "    <tr>\n",
              "      <td>1</td>\n",
              "      <td>0.566048</td>\n",
              "      <td>0.541689</td>\n",
              "      <td>0.721393</td>\n",
              "      <td>00:21</td>\n",
              "    </tr>\n",
              "    <tr>\n",
              "      <td>2</td>\n",
              "      <td>0.554564</td>\n",
              "      <td>0.543157</td>\n",
              "      <td>0.736318</td>\n",
              "      <td>00:20</td>\n",
              "    </tr>\n",
              "    <tr>\n",
              "      <td>3</td>\n",
              "      <td>0.556879</td>\n",
              "      <td>0.526971</td>\n",
              "      <td>0.756219</td>\n",
              "      <td>00:20</td>\n",
              "    </tr>\n",
              "    <tr>\n",
              "      <td>4</td>\n",
              "      <td>0.552898</td>\n",
              "      <td>0.522964</td>\n",
              "      <td>0.751244</td>\n",
              "      <td>00:19</td>\n",
              "    </tr>\n",
              "    <tr>\n",
              "      <td>5</td>\n",
              "      <td>0.541698</td>\n",
              "      <td>0.514611</td>\n",
              "      <td>0.756219</td>\n",
              "      <td>00:19</td>\n",
              "    </tr>\n",
              "    <tr>\n",
              "      <td>6</td>\n",
              "      <td>0.535575</td>\n",
              "      <td>0.514330</td>\n",
              "      <td>0.756219</td>\n",
              "      <td>00:19</td>\n",
              "    </tr>\n",
              "    <tr>\n",
              "      <td>7</td>\n",
              "      <td>0.529567</td>\n",
              "      <td>0.515582</td>\n",
              "      <td>0.746269</td>\n",
              "      <td>00:19</td>\n",
              "    </tr>\n",
              "  </tbody>\n",
              "</table>"
            ],
            "text/plain": [
              "<IPython.core.display.HTML object>"
            ]
          },
          "metadata": {
            "tags": []
          }
        }
      ]
    },
    {
      "cell_type": "code",
      "metadata": {
        "id": "tEzr2oueu1fS",
        "colab_type": "code",
        "colab": {}
      },
      "source": [
        ""
      ],
      "execution_count": 0,
      "outputs": []
    }
  ]
}